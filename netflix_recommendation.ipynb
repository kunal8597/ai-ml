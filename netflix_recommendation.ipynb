{
  "nbformat": 4,
  "nbformat_minor": 0,
  "metadata": {
    "colab": {
      "provenance": [],
      "authorship_tag": "ABX9TyPa9ROhQzld8YZz+QBm+hqw",
      "include_colab_link": true
    },
    "kernelspec": {
      "name": "python3",
      "display_name": "Python 3"
    },
    "language_info": {
      "name": "python"
    }
  },
  "cells": [
    {
      "cell_type": "markdown",
      "metadata": {
        "id": "view-in-github",
        "colab_type": "text"
      },
      "source": [
        "<a href=\"https://colab.research.google.com/github/kunal8597/ai-ml/blob/main/netflix_recommendation.ipynb\" target=\"_parent\"><img src=\"https://colab.research.google.com/assets/colab-badge.svg\" alt=\"Open In Colab\"/></a>"
      ]
    },
    {
      "cell_type": "code",
      "source": [
        "import pandas as pd\n",
        "from tabulate import tabulate\n",
        "# Load the dataset\n",
        "df = pd.read_csv('/netflix_titles.csv', encoding='latin1')\n",
        "\n",
        "# Drop rows with missing values in the 'description' and 'listed_in' columns\n",
        "df = df.dropna(subset=['description', 'listed_in'])\n",
        "\n",
        "# Function to get recommendations based on similar genres\n",
        "def get_genre_recommendations(genres, df=df, top_n=10):\n",
        "    # Filter movies/TV shows that contain any of the specified genres\n",
        "    filtered_df = df[df['listed_in'].str.contains('|'.join(genres))]\n",
        "\n",
        "    # Get top N recommendations based on popularity (release year)\n",
        "    recommendations = filtered_df.sort_values(by='release_year', ascending=False).head(top_n)\n",
        "\n",
        "    return recommendations\n",
        "\n",
        "# Sample\n",
        "genres = ['Crime']\n",
        "recommendations = get_genre_recommendations(genres)\n",
        "\n",
        "# Convert recommendations DataFrame to a formatted table\n",
        "table = tabulate(recommendations[['title', 'listed_in', 'release_year']], headers='keys', tablefmt='pretty', showindex=False)\n",
        "\n",
        "# Print the formatted table\n",
        "print(f\"Top 10 recommendations for genres {genres}:\")\n",
        "print(table)"
      ],
      "metadata": {
        "colab": {
          "base_uri": "https://localhost:8080/"
        },
        "id": "Tw5BumNVJxvh",
        "outputId": "a575f770-4b33-400f-8c3a-b8308075fbff"
      },
      "execution_count": null,
      "outputs": [
        {
          "output_type": "stream",
          "name": "stdout",
          "text": [
            "Top 10 recommendations for genres ['Crime']:\n",
            "+-----------------------------------------------+-------------------------------------------------------------------+--------------+\n",
            "|                     title                     |                             listed_in                             | release_year |\n",
            "+-----------------------------------------------+-------------------------------------------------------------------+--------------+\n",
            "|                   Ganglands                   |   Crime TV Shows, International TV Shows, TV Action & Adventure   |     2021     |\n",
            "|                     Heist                     |                    Crime TV Shows, Docuseries                     |     2021     |\n",
            "|                    The One                    |     British TV Shows, Crime TV Shows, International TV Shows      |     2021     |\n",
            "|           Abla Fahita: Drama Queen            |        Crime TV Shows, International TV Shows, TV Comedies        |     2021     |\n",
            "| Under Suspicion: Uncovering the Wesphael Case |        Crime TV Shows, Docuseries, International TV Shows         |     2021     |\n",
            "|               B: The Beginning                |       Anime Series, Crime TV Shows, International TV Shows        |     2021     |\n",
            "|                The Irregulars                 |     British TV Shows, Crime TV Shows, International TV Shows      |     2021     |\n",
            "|  Night Stalker: The Hunt for a Serial Killer  |                    Crime TV Shows, Docuseries                     |     2021     |\n",
            "|                    Somos.                     | Crime TV Shows, International TV Shows, Spanish-Language TV Shows |     2021     |\n",
            "|         Sophie: A Murder in West Cork         |           British TV Shows, Crime TV Shows, Docuseries            |     2021     |\n",
            "+-----------------------------------------------+-------------------------------------------------------------------+--------------+\n"
          ]
        }
      ]
    },
    {
      "cell_type": "markdown",
      "source": [
        "# New Section"
      ],
      "metadata": {
        "id": "6J6uP1FHFoUF"
      }
    }
  ]
}