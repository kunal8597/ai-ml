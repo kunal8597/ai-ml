{
  "nbformat": 4,
  "nbformat_minor": 0,
  "metadata": {
    "colab": {
      "provenance": [],
      "authorship_tag": "ABX9TyPBWyZAPvKZxXEnbGBd2XwH"
    },
    "kernelspec": {
      "name": "python3",
      "display_name": "Python 3"
    },
    "language_info": {
      "name": "python"
    }
  },
  "cells": [
    {
      "cell_type": "code",
      "source": [
        "import pandas as pd\n",
        "from tabulate import tabulate\n",
        "# Load the dataset\n",
        "df = pd.read_csv('/netflix_titles.csv', encoding='latin1')\n",
        "\n",
        "# Drop rows with missing values in the 'description' and 'listed_in' columns\n",
        "df = df.dropna(subset=['description', 'listed_in'])\n",
        "\n",
        "# Function to get recommendations based on similar genres\n",
        "def get_genre_recommendations(genres, df=df, top_n=10):\n",
        "    # Filter movies/TV shows that contain any of the specified genres\n",
        "    filtered_df = df[df['listed_in'].str.contains('|'.join(genres))]\n",
        "\n",
        "    # Get top N recommendations based on popularity (release year)\n",
        "    recommendations = filtered_df.sort_values(by='release_year', ascending=False).head(top_n)\n",
        "\n",
        "    return recommendations\n",
        "\n",
        "# Sample\n",
        "genres = ['Crime']\n",
        "recommendations = get_genre_recommendations(genres)\n",
        "\n",
        "# Convert recommendations DataFrame to a formatted table\n",
        "table = tabulate(recommendations[['title', 'listed_in', 'release_year']], headers='keys', tablefmt='pretty', showindex=False)\n",
        "\n",
        "# Print the formatted table\n",
        "print(f\"Top 10 recommendations for genres {genres}:\")\n",
        "print(table)"
      ],
      "metadata": {
        "colab": {
          "base_uri": "https://localhost:8080/"
        },
        "id": "Tw5BumNVJxvh",
        "outputId": "a575f770-4b33-400f-8c3a-b8308075fbff"
      },
      "execution_count": null,
      "outputs": [
        {
          "output_type": "stream",
          "name": "stdout",
          "text": [
            "Top 10 recommendations for genres ['Crime']:\n",
            "+-----------------------------------------------+-------------------------------------------------------------------+--------------+\n",
            "|                     title                     |                             listed_in                             | release_year |\n",
            "+-----------------------------------------------+-------------------------------------------------------------------+--------------+\n",
            "|                   Ganglands                   |   Crime TV Shows, International TV Shows, TV Action & Adventure   |     2021     |\n",
            "|                     Heist                     |                    Crime TV Shows, Docuseries                     |     2021     |\n",
            "|                    The One                    |     British TV Shows, Crime TV Shows, International TV Shows      |     2021     |\n",
            "|           Abla Fahita: Drama Queen            |        Crime TV Shows, International TV Shows, TV Comedies        |     2021     |\n",
            "| Under Suspicion: Uncovering the Wesphael Case |        Crime TV Shows, Docuseries, International TV Shows         |     2021     |\n",
            "|               B: The Beginning                |       Anime Series, Crime TV Shows, International TV Shows        |     2021     |\n",
            "|                The Irregulars                 |     British TV Shows, Crime TV Shows, International TV Shows      |     2021     |\n",
            "|  Night Stalker: The Hunt for a Serial Killer  |                    Crime TV Shows, Docuseries                     |     2021     |\n",
            "|                    Somos.                     | Crime TV Shows, International TV Shows, Spanish-Language TV Shows |     2021     |\n",
            "|         Sophie: A Murder in West Cork         |           British TV Shows, Crime TV Shows, Docuseries            |     2021     |\n",
            "+-----------------------------------------------+-------------------------------------------------------------------+--------------+\n"
          ]
        }
      ]
    },
    {
      "cell_type": "code",
      "source": [
        "import pandas as pd\n",
        "import random\n",
        "from tabulate import tabulate\n",
        "\n",
        "# Load the dataset\n",
        "df = pd.read_csv('/netflix_titles.csv', encoding='latin1')\n",
        "\n",
        "# Drop rows with missing values in the 'description' and 'listed_in' columns\n",
        "df = df.dropna(subset=['description', 'listed_in'])\n",
        "\n",
        "# Function to get random recommendations based on genres and release decade\n",
        "def get_random_recommendations(genres, release_decade, df=df, top_n=10):\n",
        "    # Filter movies/TV shows that contain any of the specified genres\n",
        "    filtered_df = df[df['listed_in'].str.contains('|'.join(genres))]\n",
        "\n",
        "    # Filter by release decade\n",
        "    start_year = release_decade\n",
        "    end_year = release_decade + 9\n",
        "    filtered_df = filtered_df[(filtered_df['release_year'] >= start_year) & (filtered_df['release_year'] <= end_year)]\n",
        "\n",
        "    # Get the number of available recommendations\n",
        "    available_recommendations = min(top_n, len(filtered_df))\n",
        "\n",
        "    # Randomly select recommendations if available\n",
        "    if available_recommendations > 0:\n",
        "        recommendations = filtered_df.sample(n=available_recommendations)\n",
        "    else:\n",
        "        recommendations = pd.DataFrame()  # No recommendations available\n",
        "\n",
        "    return recommendations\n",
        "\n",
        "# Example usage:\n",
        "genres = ['Action']\n",
        "release_decade = 2000 # Replace with user's preferred release decade\n",
        "recommendations = get_random_recommendations(genres, release_decade)\n",
        "\n",
        "# Convert recommendations DataFrame to a formatted table\n",
        "if not recommendations.empty:\n",
        "    table = tabulate(recommendations[['title', 'listed_in', 'release_year']], headers='keys', tablefmt='pretty', showindex=False)\n",
        "\n",
        "    # Print the formatted table\n",
        "    print(f\"Random recommendations for genres {genres} and release decade {release_decade}s:\")\n",
        "    print(table)\n",
        "else:\n",
        "    print(f\"No recommendations available for genres {genres} and release decade {release_decade}s.\")\n"
      ],
      "metadata": {
        "colab": {
          "base_uri": "https://localhost:8080/"
        },
        "id": "uSbMfzLW9Rj3",
        "outputId": "d001426f-8953-4330-cf0b-fe3cc1ec61e4"
      },
      "execution_count": 8,
      "outputs": [
        {
          "output_type": "stream",
          "name": "stdout",
          "text": [
            "Random recommendations for genres ['Action'] and release decade 2000s:\n",
            "+--------------------------------------------------------+----------------------------------------------------------+--------------+\n",
            "|                         title                          |                        listed_in                         | release_year |\n",
            "+--------------------------------------------------------+----------------------------------------------------------+--------------+\n",
            "|              Naruto Shippuden: The Movie               | Action & Adventure, Anime Features, International Movies |     2007     |\n",
            "|                       The Tuxedo                       |               Action & Adventure, Comedies               |     2002     |\n",
            "|                     Vantage Point                      |                    Action & Adventure                    |     2008     |\n",
            "| Inuyasha the Movie - La spada del dominatore del mondo | Action & Adventure, Anime Features, International Movies |     2003     |\n",
            "|              Austin Powers in Goldmember               |               Action & Adventure, Comedies               |     2002     |\n",
            "|                       16 Blocks                        |                    Action & Adventure                    |     2006     |\n",
            "|                 Code Name: The Cleaner                 |               Action & Adventure, Comedies               |     2007     |\n",
            "|                   Where the Money Is                   |           Action & Adventure, Comedies, Dramas           |     2000     |\n",
            "|                     Casino Royale                      |                    Action & Adventure                    |     2006     |\n",
            "|                     Organize Isler                     |    Action & Adventure, Comedies, International Movies    |     2005     |\n",
            "+--------------------------------------------------------+----------------------------------------------------------+--------------+\n"
          ]
        }
      ]
    },
    {
      "cell_type": "markdown",
      "source": [
        "# New Section"
      ],
      "metadata": {
        "id": "6J6uP1FHFoUF"
      }
    }
  ]
}